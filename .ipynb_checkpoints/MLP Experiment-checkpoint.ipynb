{
 "cells": [
  {
   "cell_type": "markdown",
   "id": "4958a4ff",
   "metadata": {},
   "source": [
    "Equipe:\n",
    "\n",
    "> Éden Ernandes\n",
    "> Lucas Cardoso\n",
    "Magnon Souza\n",
    "Penelope Araujo\n",
    "Saulo Guilhermino"
   ]
  },
  {
   "cell_type": "code",
   "execution_count": 14,
   "id": "6047ce14",
   "metadata": {},
   "outputs": [],
   "source": [
    "!pip install numpy --quiet"
   ]
  },
  {
   "cell_type": "code",
   "execution_count": 15,
   "id": "87fd1453",
   "metadata": {},
   "outputs": [],
   "source": [
    "import mnist_loader"
   ]
  },
  {
   "cell_type": "code",
   "execution_count": 16,
   "id": "8051d72a",
   "metadata": {},
   "outputs": [],
   "source": [
    "training_data, validation_data, test_data = mnist_loader.load_data_wrapper()"
   ]
  },
  {
   "cell_type": "code",
   "execution_count": 17,
   "id": "40e4261d",
   "metadata": {},
   "outputs": [],
   "source": [
    "import network"
   ]
  },
  {
   "cell_type": "code",
   "execution_count": 18,
   "id": "cad643d5",
   "metadata": {},
   "outputs": [],
   "source": [
    "net = network.Network([784, 30, 10])"
   ]
  },
  {
   "cell_type": "code",
   "execution_count": 19,
   "id": "44a456f1",
   "metadata": {},
   "outputs": [
    {
     "name": "stdout",
     "output_type": "stream",
     "text": [
      "Epoch 0 : 9109 / 10000\n",
      "Epoch 1 : 9176 / 10000\n",
      "Epoch 2 : 9322 / 10000\n",
      "Epoch 3 : 9308 / 10000\n",
      "Epoch 4 : 9352 / 10000\n",
      "Epoch 5 : 9408 / 10000\n",
      "Epoch 6 : 9421 / 10000\n",
      "Epoch 7 : 9423 / 10000\n",
      "Epoch 8 : 9459 / 10000\n",
      "Epoch 9 : 9460 / 10000\n",
      "Epoch 10 : 9468 / 10000\n",
      "Epoch 11 : 9473 / 10000\n",
      "Epoch 12 : 9451 / 10000\n",
      "Epoch 13 : 9462 / 10000\n",
      "Epoch 14 : 9490 / 10000\n",
      "Epoch 15 : 9464 / 10000\n",
      "Epoch 16 : 9482 / 10000\n",
      "Epoch 17 : 9465 / 10000\n",
      "Epoch 18 : 9489 / 10000\n",
      "Epoch 19 : 9485 / 10000\n",
      "Epoch 20 : 9468 / 10000\n",
      "Epoch 21 : 9502 / 10000\n",
      "Epoch 22 : 9485 / 10000\n",
      "Epoch 23 : 9479 / 10000\n",
      "Epoch 24 : 9456 / 10000\n",
      "Epoch 25 : 9480 / 10000\n",
      "Epoch 26 : 9482 / 10000\n",
      "Epoch 27 : 9488 / 10000\n",
      "Epoch 28 : 9471 / 10000\n",
      "Epoch 29 : 9512 / 10000\n",
      "CPU times: user 20min 23s, sys: 8min 19s, total: 28min 42s\n",
      "Wall time: 3min 49s\n"
     ]
    }
   ],
   "source": [
    "%%time\n",
    "net.SGD(training_data, 30, 10, 3.0, test_data=test_data)"
   ]
  },
  {
   "cell_type": "code",
   "execution_count": null,
   "id": "23b32f75",
   "metadata": {},
   "outputs": [],
   "source": []
  }
 ],
 "metadata": {
  "kernelspec": {
   "display_name": "Python 3 (ipykernel)",
   "language": "python",
   "name": "python3"
  },
  "language_info": {
   "codemirror_mode": {
    "name": "ipython",
    "version": 3
   },
   "file_extension": ".py",
   "mimetype": "text/x-python",
   "name": "python",
   "nbconvert_exporter": "python",
   "pygments_lexer": "ipython3",
   "version": "3.8.2"
  }
 },
 "nbformat": 4,
 "nbformat_minor": 5
}
