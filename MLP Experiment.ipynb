{
 "cells": [
  {
   "cell_type": "markdown",
   "id": "da969777",
   "metadata": {},
   "source": [
    "#### Equipe:\n",
    "\n",
    "Éden Ernandes (eeas)\n",
    "\n",
    "Lucas Cardoso (lccao)\n",
    "\n",
    "Magnon Souza (mpgrs)\n",
    "\n",
    "Penelope Araujo (pmpa)\n",
    "\n",
    "Saulo Guilhermino (sgfl)"
   ]
  },
  {
   "cell_type": "markdown",
   "id": "b27b7675",
   "metadata": {},
   "source": [
    "**Aqui a gente importa as libs necessárias para executar o experimento**"
   ]
  },
  {
   "cell_type": "code",
   "execution_count": 34,
   "id": "6047ce14",
   "metadata": {},
   "outputs": [
    {
     "name": "stdout",
     "output_type": "stream",
     "text": [
      "\u001b[33mWARNING: You are using pip version 21.1.2; however, version 21.1.3 is available.\r\n",
      "You should consider upgrading via the '/Users/edenernandes/Documents/repos/MiniProjeto1RedesNeurais/env/bin/python -m pip install --upgrade pip' command.\u001b[0m\r\n"
     ]
    }
   ],
   "source": [
    "!pip install numpy --quiet"
   ]
  },
  {
   "cell_type": "code",
   "execution_count": 35,
   "id": "87fd1453",
   "metadata": {},
   "outputs": [],
   "source": [
    "import mnist_loader\n",
    "import network"
   ]
  },
  {
   "cell_type": "markdown",
   "id": "1cf869e1",
   "metadata": {},
   "source": [
    "**Fazemos a separação do dataset MNIST em dados de treinamento, validação e teste (Não será utilizado dados de validação)**"
   ]
  },
  {
   "cell_type": "code",
   "execution_count": 36,
   "id": "8051d72a",
   "metadata": {},
   "outputs": [],
   "source": [
    "training_data, validation_data, test_data = mnist_loader.load_data_wrapper()"
   ]
  },
  {
   "cell_type": "markdown",
   "id": "4a167851",
   "metadata": {},
   "source": [
    "**Construção da Rede Neural com:**\n",
    "\n",
    "- 784 pontos de entrada\n",
    "- 30 neurônios na camada escondida\n",
    "- 10 neurônios na camada de saída "
   ]
  },
  {
   "cell_type": "code",
   "execution_count": 37,
   "id": "cad643d5",
   "metadata": {},
   "outputs": [],
   "source": [
    "net = network.Network([784, 30, 10])"
   ]
  },
  {
   "cell_type": "markdown",
   "id": "d7a92f9c",
   "metadata": {},
   "source": [
    "**Para executar o treinamento da rede, utilizamos o Gradiente Descente Estocástico com 30 épocas, mini-batch de 10 e taxa de aprendizagem de 3.0.**"
   ]
  },
  {
   "cell_type": "code",
   "execution_count": null,
   "id": "44a456f1",
   "metadata": {
    "scrolled": true
   },
   "outputs": [
    {
     "name": "stdout",
     "output_type": "stream",
     "text": [
      "Epoch 0 : 9099 / 10000\n",
      "Epoch 1 : 9242 / 10000\n",
      "Epoch 2 : 9307 / 10000\n",
      "Epoch 3 : 9358 / 10000\n",
      "Epoch 4 : 9384 / 10000\n",
      "Epoch 5 : 9407 / 10000\n",
      "Epoch 6 : 9407 / 10000\n",
      "Epoch 7 : 9421 / 10000\n",
      "Epoch 8 : 9415 / 10000\n",
      "Epoch 9 : 9456 / 10000\n",
      "Epoch 10 : 9444 / 10000\n",
      "Epoch 11 : 9431 / 10000\n",
      "Epoch 12 : 9449 / 10000\n",
      "Epoch 13 : 9425 / 10000\n",
      "Epoch 14 : 9457 / 10000\n",
      "Epoch 15 : 9444 / 10000\n",
      "Epoch 16 : 9454 / 10000\n",
      "Epoch 17 : 9472 / 10000\n",
      "Epoch 18 : 9454 / 10000\n"
     ]
    }
   ],
   "source": [
    "%%time\n",
    "net.SGD(training_data, 30, 10, 3.0, test_data=test_data)"
   ]
  },
  {
   "cell_type": "markdown",
   "id": "5ef34706",
   "metadata": {},
   "source": [
    "Iremos variar os seguintes parâmetros afim de verificar melhorias no desempenho:\n",
    "\n",
    "- Número de neurônios na camada escondida (30, 50, 100, 200, 500)\n",
    "- Taxa de aprendizagem (0.01, 0.1, 1, 2, 3)\n",
    "- Função de Ativação ()\n",
    "- Algoritmo de aprenziagem ()\n"
   ]
  },
  {
   "cell_type": "markdown",
   "id": "73c80de7",
   "metadata": {},
   "source": [
    "#### Variação no número de neurônios da camada escondida"
   ]
  },
  {
   "cell_type": "markdown",
   "id": "dbed1925",
   "metadata": {},
   "source": [
    "GALERA, está acontecendo um fenomento que, quando chamamos o SGD mais uma vez, mesmo que instanicando uma network nova, ela não funciona. Quem for continuar aqui, procurar um jeito de resolver esse problema.\n",
    "\n",
    "Sobre os dados que a gente precisa coletar: O tempo de execução, quais foram o número de acertos, os falsos positivos, falsos negativos, verdadeiros positivos e verdadeiros negativos para cada classe (0 a 9)"
   ]
  }
 ],
 "metadata": {
  "kernelspec": {
   "display_name": "Python 3 (ipykernel)",
   "language": "python",
   "name": "python3"
  },
  "language_info": {
   "codemirror_mode": {
    "name": "ipython",
    "version": 3
   },
   "file_extension": ".py",
   "mimetype": "text/x-python",
   "name": "python",
   "nbconvert_exporter": "python",
   "pygments_lexer": "ipython3",
   "version": "3.8.2"
  }
 },
 "nbformat": 4,
 "nbformat_minor": 5
}
