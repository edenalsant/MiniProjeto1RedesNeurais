{
 "cells": [
  {
   "cell_type": "markdown",
   "id": "1034ac9d",
   "metadata": {},
   "source": [
    "#### Equipe:\n",
    "\n",
    "Éden Ernandes (eeas)\n",
    "\n",
    "Lucas Cardoso (lccao)\n",
    "\n",
    "Magnon Souza (mprs)\n",
    "\n",
    "Penelope Araujo (pmpa)\n",
    "\n",
    "Saulo Guilhermino (sgfl)"
   ]
  },
  {
   "cell_type": "markdown",
   "id": "95378b2f",
   "metadata": {},
   "source": [
    "**Aqui a gente importa as libs necessárias para executar o experimento**"
   ]
  },
  {
   "cell_type": "code",
   "execution_count": 22,
   "id": "6047ce14",
   "metadata": {},
   "outputs": [
    {
     "name": "stdout",
     "output_type": "stream",
     "text": [
      "\u001b[33mWARNING: You are using pip version 21.1.2; however, version 21.1.3 is available.\r\n",
      "You should consider upgrading via the '/Users/edenernandes/Documents/repos/MiniProjeto1RedesNeurais/env/bin/python -m pip install --upgrade pip' command.\u001b[0m\r\n"
     ]
    }
   ],
   "source": [
    "!pip install numpy --quiet"
   ]
  },
  {
   "cell_type": "code",
   "execution_count": 23,
   "id": "87fd1453",
   "metadata": {},
   "outputs": [],
   "source": [
    "import mnist_loader\n",
    "import network"
   ]
  },
  {
   "cell_type": "markdown",
   "id": "16162ed9",
   "metadata": {},
   "source": [
    "**Fazemos a separação do dataset MNIST em dados de treinamento, validação e teste (Não será utilizado dados de validação)**"
   ]
  },
  {
   "cell_type": "code",
   "execution_count": 24,
   "id": "8051d72a",
   "metadata": {},
   "outputs": [],
   "source": [
    "training_data, validation_data, test_data = mnist_loader.load_data_wrapper()"
   ]
  },
  {
   "cell_type": "markdown",
   "id": "4b08a179",
   "metadata": {},
   "source": [
    "**Construção da Rede Neural com:**\n",
    "\n",
    "- 784 pontos de entrada\n",
    "- 30 neurônios na camada escondida\n",
    "- 10 neurônios na camada de saída "
   ]
  },
  {
   "cell_type": "code",
   "execution_count": 25,
   "id": "cad643d5",
   "metadata": {},
   "outputs": [],
   "source": [
    "net = network.Network([784, 30, 10])"
   ]
  },
  {
   "cell_type": "markdown",
   "id": "02854e9d",
   "metadata": {},
   "source": [
    "**Para executar o treinamento da rede, utilizamos o Gradiente Descente Estocástico com 30 épocas, mini-batch de 10 e taxa de aprendizagem de 3.0.**"
   ]
  },
  {
   "cell_type": "code",
   "execution_count": 26,
   "id": "44a456f1",
   "metadata": {
    "scrolled": false
   },
   "outputs": [
    {
     "name": "stdout",
     "output_type": "stream",
     "text": [
      "Epoch 0 : 8220 / 10000\n",
      "Epoch 1 : 9246 / 10000\n",
      "Epoch 2 : 9317 / 10000\n",
      "Epoch 3 : 9388 / 10000\n",
      "Epoch 4 : 9375 / 10000\n",
      "Epoch 5 : 9399 / 10000\n",
      "Epoch 6 : 9422 / 10000\n",
      "Epoch 7 : 9443 / 10000\n",
      "Epoch 8 : 9441 / 10000\n",
      "Epoch 9 : 9452 / 10000\n",
      "Epoch 10 : 9453 / 10000\n",
      "Epoch 11 : 9494 / 10000\n",
      "Epoch 12 : 9475 / 10000\n",
      "Epoch 13 : 9478 / 10000\n",
      "Epoch 14 : 9495 / 10000\n",
      "Epoch 15 : 9497 / 10000\n",
      "Epoch 16 : 9494 / 10000\n",
      "Epoch 17 : 9509 / 10000\n",
      "Epoch 18 : 9511 / 10000\n",
      "Epoch 19 : 9527 / 10000\n",
      "Epoch 20 : 9498 / 10000\n",
      "Epoch 21 : 9512 / 10000\n",
      "Epoch 22 : 9511 / 10000\n",
      "Epoch 23 : 9473 / 10000\n",
      "Epoch 24 : 9517 / 10000\n",
      "Epoch 25 : 9507 / 10000\n",
      "Epoch 26 : 9490 / 10000\n",
      "Epoch 27 : 9503 / 10000\n",
      "Epoch 28 : 9522 / 10000\n",
      "Epoch 29 : 9501 / 10000\n",
      "CPU times: user 21min 50s, sys: 12min 27s, total: 34min 17s\n",
      "Wall time: 4min 37s\n"
     ]
    }
   ],
   "source": [
    "%%time\n",
    "net.SGD(training_data, 30, 10, 3.0, test_data=test_data)"
   ]
  },
  {
   "cell_type": "markdown",
   "id": "9e866aec",
   "metadata": {},
   "source": [
    "Iremos variar os seguintes parâmetros afim de verificar melhorias no desempenho:\n",
    "\n",
    "- Número de neurônios na camada escondida (30, 50, 100, 200, 500)\n",
    "- Taxa de aprendizagem (0.01, 0.1, 1, 2, 3)\n",
    "- Função de Ativação ()\n",
    "- Algoritmo de aprenziagem ()\n"
   ]
  },
  {
   "cell_type": "markdown",
   "id": "6c54d143",
   "metadata": {},
   "source": [
    "#### Variação no número de neurônios da camada escondida"
   ]
  },
  {
   "cell_type": "markdown",
   "id": "eaec12cf",
   "metadata": {},
   "source": [
    "Sobre os dados que a gente precisa coletar: O tempo de execução, quais foram o número de acertos (geral e por classe), os falsos positivos, falsos negativos, verdadeiros positivos e verdadeiros negativos para cada classe (0 a 9)"
   ]
  },
  {
   "cell_type": "code",
   "execution_count": 27,
   "id": "dfa611c2",
   "metadata": {},
   "outputs": [],
   "source": [
    "training_data, validation_data, test_data = mnist_loader.load_data_wrapper()\n",
    "net2 = network.Network([784, 50, 10])"
   ]
  },
  {
   "cell_type": "code",
   "execution_count": 28,
   "id": "9fa043a0",
   "metadata": {},
   "outputs": [
    {
     "name": "stdout",
     "output_type": "stream",
     "text": [
      "Epoch 0 : 8197 / 10000\n",
      "Epoch 1 : 8324 / 10000\n",
      "Epoch 2 : 8448 / 10000\n",
      "Epoch 3 : 8476 / 10000\n",
      "Epoch 4 : 8491 / 10000\n",
      "Epoch 5 : 8552 / 10000\n",
      "Epoch 6 : 8555 / 10000\n",
      "Epoch 7 : 8555 / 10000\n",
      "Epoch 8 : 8576 / 10000\n",
      "Epoch 9 : 8528 / 10000\n",
      "Epoch 10 : 8603 / 10000\n",
      "Epoch 11 : 8613 / 10000\n",
      "Epoch 12 : 8617 / 10000\n",
      "Epoch 13 : 8599 / 10000\n",
      "Epoch 14 : 8616 / 10000\n",
      "Epoch 15 : 8617 / 10000\n",
      "Epoch 16 : 8620 / 10000\n",
      "Epoch 17 : 8633 / 10000\n",
      "Epoch 18 : 8641 / 10000\n",
      "Epoch 19 : 8621 / 10000\n",
      "Epoch 20 : 8624 / 10000\n",
      "Epoch 21 : 8637 / 10000\n",
      "Epoch 22 : 8640 / 10000\n",
      "Epoch 23 : 8646 / 10000\n",
      "Epoch 24 : 8622 / 10000\n",
      "Epoch 25 : 8643 / 10000\n",
      "Epoch 26 : 8622 / 10000\n",
      "Epoch 27 : 8632 / 10000\n",
      "Epoch 28 : 8641 / 10000\n",
      "Epoch 29 : 8643 / 10000\n",
      "CPU times: user 22min 30s, sys: 1min 5s, total: 23min 35s\n",
      "Wall time: 3min 3s\n"
     ]
    }
   ],
   "source": [
    "%%time\n",
    "net2.SGD(training_data, 30, 10, 3.0, test_data=test_data)"
   ]
  }
 ],
 "metadata": {
  "kernelspec": {
   "display_name": "Python 3 (ipykernel)",
   "language": "python",
   "name": "python3"
  },
  "language_info": {
   "codemirror_mode": {
    "name": "ipython",
    "version": 3
   },
   "file_extension": ".py",
   "mimetype": "text/x-python",
   "name": "python",
   "nbconvert_exporter": "python",
   "pygments_lexer": "ipython3",
   "version": "3.8.2"
  }
 },
 "nbformat": 4,
 "nbformat_minor": 5
}
